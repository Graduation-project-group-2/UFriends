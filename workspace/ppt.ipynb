{
 "cells": [
  {
   "cell_type": "code",
   "execution_count": 1,
   "metadata": {
    "collapsed": true
   },
   "outputs": [],
   "source": [
    "import pandas as pd"
   ]
  },
  {
   "cell_type": "code",
   "execution_count": 2,
   "outputs": [
    {
     "data": {
      "text/plain": "       sentiment                                         user  \\\n0              5                     아내가 드디어 출산하게 되어서 정말 신이 나   \n1              2       당뇨랑 합병증 때문에 먹어야 할 약이 열 가지가 넘어가니까 스트레스야   \n2              4       고등학교에 올라오니 중학교 때보다 수업이 갑자기 어려워져서 당황스러워   \n3              5  재취업이 돼서 받게 된 첫 월급으로 온 가족이 외식을 할 예정이야 너무 행복해   \n4              5                  빚을 드디어 다 갚게 되어서 이제야 안도감이 들어   \n...          ...                                          ...   \n38961          3       최 영감이 노인들에게 나를 이상한 사람으로 이야기해서 답답하고 억울해   \n38962          5             지난주에 건강검진 결과가 나왔는데 정상이라고 결과가 나왔어   \n38963          1      엄마는 내 꿈인 작가를 응원해 주고는 했는데 지금은 안 그래 너무 슬퍼   \n38964          5       이렇게 좋은 운동 시설에서 경로 우대로 운동할 수 있다니 참 행운이야   \n38965          2            친구 관계가 너무 힘들어 베푸는 만큼 돌아오지 않는 것 같아   \n\n                                        chatbot  \n0                       아내분이 출산을 하시는군요 정말 축하드려요  \n1                             약 종류가 많아 번거로우시겠어요  \n2        고등학교 수업이 중학교 때와는 다르게 갑자기 어려워서 당황스러우시군요  \n3                        재취업 후 첫 월급이라 정말 기쁘시겠어요  \n4                  기분 좋으시겠어요 앞으로는 어떻게 하실 생각이신가요  \n...                                         ...  \n38961             최 영감이 노인들에게 이상하게 이야기해서 억울하셨군요  \n38962                      검진 결과가 좋게 나와서 안도하겠네요  \n38963     어머니의 응원이 사라져서 슬프시겠어요 조금 더 자세히 말해주시겠어요  \n38964                 운동 시설을 쓸 수 있어서 기분이 좋으시겠어요  \n38965  많이 서운하셨겠어요 친구들에게 서운함을 느꼈을 때 해결하는 방법이 있나요  \n\n[38966 rows x 3 columns]",
      "text/html": "<div>\n<style scoped>\n    .dataframe tbody tr th:only-of-type {\n        vertical-align: middle;\n    }\n\n    .dataframe tbody tr th {\n        vertical-align: top;\n    }\n\n    .dataframe thead th {\n        text-align: right;\n    }\n</style>\n<table border=\"1\" class=\"dataframe\">\n  <thead>\n    <tr style=\"text-align: right;\">\n      <th></th>\n      <th>sentiment</th>\n      <th>user</th>\n      <th>chatbot</th>\n    </tr>\n  </thead>\n  <tbody>\n    <tr>\n      <th>0</th>\n      <td>5</td>\n      <td>아내가 드디어 출산하게 되어서 정말 신이 나</td>\n      <td>아내분이 출산을 하시는군요 정말 축하드려요</td>\n    </tr>\n    <tr>\n      <th>1</th>\n      <td>2</td>\n      <td>당뇨랑 합병증 때문에 먹어야 할 약이 열 가지가 넘어가니까 스트레스야</td>\n      <td>약 종류가 많아 번거로우시겠어요</td>\n    </tr>\n    <tr>\n      <th>2</th>\n      <td>4</td>\n      <td>고등학교에 올라오니 중학교 때보다 수업이 갑자기 어려워져서 당황스러워</td>\n      <td>고등학교 수업이 중학교 때와는 다르게 갑자기 어려워서 당황스러우시군요</td>\n    </tr>\n    <tr>\n      <th>3</th>\n      <td>5</td>\n      <td>재취업이 돼서 받게 된 첫 월급으로 온 가족이 외식을 할 예정이야 너무 행복해</td>\n      <td>재취업 후 첫 월급이라 정말 기쁘시겠어요</td>\n    </tr>\n    <tr>\n      <th>4</th>\n      <td>5</td>\n      <td>빚을 드디어 다 갚게 되어서 이제야 안도감이 들어</td>\n      <td>기분 좋으시겠어요 앞으로는 어떻게 하실 생각이신가요</td>\n    </tr>\n    <tr>\n      <th>...</th>\n      <td>...</td>\n      <td>...</td>\n      <td>...</td>\n    </tr>\n    <tr>\n      <th>38961</th>\n      <td>3</td>\n      <td>최 영감이 노인들에게 나를 이상한 사람으로 이야기해서 답답하고 억울해</td>\n      <td>최 영감이 노인들에게 이상하게 이야기해서 억울하셨군요</td>\n    </tr>\n    <tr>\n      <th>38962</th>\n      <td>5</td>\n      <td>지난주에 건강검진 결과가 나왔는데 정상이라고 결과가 나왔어</td>\n      <td>검진 결과가 좋게 나와서 안도하겠네요</td>\n    </tr>\n    <tr>\n      <th>38963</th>\n      <td>1</td>\n      <td>엄마는 내 꿈인 작가를 응원해 주고는 했는데 지금은 안 그래 너무 슬퍼</td>\n      <td>어머니의 응원이 사라져서 슬프시겠어요 조금 더 자세히 말해주시겠어요</td>\n    </tr>\n    <tr>\n      <th>38964</th>\n      <td>5</td>\n      <td>이렇게 좋은 운동 시설에서 경로 우대로 운동할 수 있다니 참 행운이야</td>\n      <td>운동 시설을 쓸 수 있어서 기분이 좋으시겠어요</td>\n    </tr>\n    <tr>\n      <th>38965</th>\n      <td>2</td>\n      <td>친구 관계가 너무 힘들어 베푸는 만큼 돌아오지 않는 것 같아</td>\n      <td>많이 서운하셨겠어요 친구들에게 서운함을 느꼈을 때 해결하는 방법이 있나요</td>\n    </tr>\n  </tbody>\n</table>\n<p>38966 rows × 3 columns</p>\n</div>"
     },
     "execution_count": 2,
     "metadata": {},
     "output_type": "execute_result"
    }
   ],
   "source": [
    "df = pd.read_csv('../data/train_df_preprocess.csv')\n",
    "df"
   ],
   "metadata": {
    "collapsed": false
   }
  },
  {
   "cell_type": "code",
   "execution_count": 3,
   "outputs": [
    {
     "data": {
      "text/plain": "       Unnamed: 0  sentiment                                         user  \\\n0               0          5                     아내가 드디어 출산하게 되어서 정말 신이 나   \n1               1          2       당뇨랑 합병증 때문에 먹어야 할 약이 열 가지가 넘어가니까 스트레스야   \n2               2          4       고등학교에 올라오니 중학교 때보다 수업이 갑자기 어려워져서 당황스러워   \n3               3          5  재취업이 돼서 받게 된 첫 월급으로 온 가족이 외식을 할 예정이야 너무 행복해   \n4               4          5                  빚을 드디어 다 갚게 되어서 이제야 안도감이 들어   \n...           ...        ...                                          ...   \n38961       38961          3       최 영감이 노인들에게 나를 이상한 사람으로 이야기해서 답답하고 억울해   \n38962       38962          5             지난주에 건강검진 결과가 나왔는데 정상이라고 결과가 나왔어   \n38963       38963          1      엄마는 내 꿈인 작가를 응원해 주고는 했는데 지금은 안 그래 너무 슬퍼   \n38964       38964          5       이렇게 좋은 운동 시설에서 경로 우대로 운동할 수 있다니 참 행운이야   \n38965       38965          2            친구 관계가 너무 힘들어 베푸는 만큼 돌아오지 않는 것 같아   \n\n                                        chatbot  \\\n0                       아내분이 출산을 하시는군요 정말 축하드려요   \n1                             약 종류가 많아 번거로우시겠어요   \n2        고등학교 수업이 중학교 때와는 다르게 갑자기 어려워서 당황스러우시군요   \n3                        재취업 후 첫 월급이라 정말 기쁘시겠어요   \n4                  기분 좋으시겠어요 앞으로는 어떻게 하실 생각이신가요   \n...                                         ...   \n38961             최 영감이 노인들에게 이상하게 이야기해서 억울하셨군요   \n38962                      검진 결과가 좋게 나와서 안도하겠네요   \n38963     어머니의 응원이 사라져서 슬프시겠어요 조금 더 자세히 말해주시겠어요   \n38964                 운동 시설을 쓸 수 있어서 기분이 좋으시겠어요   \n38965  많이 서운하셨겠어요 친구들에게 서운함을 느꼈을 때 해결하는 방법이 있나요   \n\n                                               embedding  \n0      [-4.99664128e-01 -1.97172120e-01 -1.18156016e+...  \n1      [-3.15807551e-01 -3.56319189e-01 -2.20187813e-...  \n2      [-2.68143177e-01 -7.93321356e-02  2.91770905e-...  \n3      [-0.42768264  0.11820963 -0.29986957  0.052228...  \n4      [ 2.75525182e-01 -2.07167596e-01 -3.84535670e-...  \n...                                                  ...  \n38961  [-3.95965487e-01 -4.29220647e-01  8.92511249e-...  \n38962  [-6.55576706e-01 -1.18351012e-01  2.38222573e-...  \n38963  [-2.46017903e-01 -4.83330786e-02 -3.31132829e-...  \n38964  [-2.04013027e-02 -2.02393845e-01  1.54707506e-...  \n38965  [-7.00531602e-01 -2.13046625e-01 -2.02321410e-...  \n\n[38966 rows x 5 columns]",
      "text/html": "<div>\n<style scoped>\n    .dataframe tbody tr th:only-of-type {\n        vertical-align: middle;\n    }\n\n    .dataframe tbody tr th {\n        vertical-align: top;\n    }\n\n    .dataframe thead th {\n        text-align: right;\n    }\n</style>\n<table border=\"1\" class=\"dataframe\">\n  <thead>\n    <tr style=\"text-align: right;\">\n      <th></th>\n      <th>Unnamed: 0</th>\n      <th>sentiment</th>\n      <th>user</th>\n      <th>chatbot</th>\n      <th>embedding</th>\n    </tr>\n  </thead>\n  <tbody>\n    <tr>\n      <th>0</th>\n      <td>0</td>\n      <td>5</td>\n      <td>아내가 드디어 출산하게 되어서 정말 신이 나</td>\n      <td>아내분이 출산을 하시는군요 정말 축하드려요</td>\n      <td>[-4.99664128e-01 -1.97172120e-01 -1.18156016e+...</td>\n    </tr>\n    <tr>\n      <th>1</th>\n      <td>1</td>\n      <td>2</td>\n      <td>당뇨랑 합병증 때문에 먹어야 할 약이 열 가지가 넘어가니까 스트레스야</td>\n      <td>약 종류가 많아 번거로우시겠어요</td>\n      <td>[-3.15807551e-01 -3.56319189e-01 -2.20187813e-...</td>\n    </tr>\n    <tr>\n      <th>2</th>\n      <td>2</td>\n      <td>4</td>\n      <td>고등학교에 올라오니 중학교 때보다 수업이 갑자기 어려워져서 당황스러워</td>\n      <td>고등학교 수업이 중학교 때와는 다르게 갑자기 어려워서 당황스러우시군요</td>\n      <td>[-2.68143177e-01 -7.93321356e-02  2.91770905e-...</td>\n    </tr>\n    <tr>\n      <th>3</th>\n      <td>3</td>\n      <td>5</td>\n      <td>재취업이 돼서 받게 된 첫 월급으로 온 가족이 외식을 할 예정이야 너무 행복해</td>\n      <td>재취업 후 첫 월급이라 정말 기쁘시겠어요</td>\n      <td>[-0.42768264  0.11820963 -0.29986957  0.052228...</td>\n    </tr>\n    <tr>\n      <th>4</th>\n      <td>4</td>\n      <td>5</td>\n      <td>빚을 드디어 다 갚게 되어서 이제야 안도감이 들어</td>\n      <td>기분 좋으시겠어요 앞으로는 어떻게 하실 생각이신가요</td>\n      <td>[ 2.75525182e-01 -2.07167596e-01 -3.84535670e-...</td>\n    </tr>\n    <tr>\n      <th>...</th>\n      <td>...</td>\n      <td>...</td>\n      <td>...</td>\n      <td>...</td>\n      <td>...</td>\n    </tr>\n    <tr>\n      <th>38961</th>\n      <td>38961</td>\n      <td>3</td>\n      <td>최 영감이 노인들에게 나를 이상한 사람으로 이야기해서 답답하고 억울해</td>\n      <td>최 영감이 노인들에게 이상하게 이야기해서 억울하셨군요</td>\n      <td>[-3.95965487e-01 -4.29220647e-01  8.92511249e-...</td>\n    </tr>\n    <tr>\n      <th>38962</th>\n      <td>38962</td>\n      <td>5</td>\n      <td>지난주에 건강검진 결과가 나왔는데 정상이라고 결과가 나왔어</td>\n      <td>검진 결과가 좋게 나와서 안도하겠네요</td>\n      <td>[-6.55576706e-01 -1.18351012e-01  2.38222573e-...</td>\n    </tr>\n    <tr>\n      <th>38963</th>\n      <td>38963</td>\n      <td>1</td>\n      <td>엄마는 내 꿈인 작가를 응원해 주고는 했는데 지금은 안 그래 너무 슬퍼</td>\n      <td>어머니의 응원이 사라져서 슬프시겠어요 조금 더 자세히 말해주시겠어요</td>\n      <td>[-2.46017903e-01 -4.83330786e-02 -3.31132829e-...</td>\n    </tr>\n    <tr>\n      <th>38964</th>\n      <td>38964</td>\n      <td>5</td>\n      <td>이렇게 좋은 운동 시설에서 경로 우대로 운동할 수 있다니 참 행운이야</td>\n      <td>운동 시설을 쓸 수 있어서 기분이 좋으시겠어요</td>\n      <td>[-2.04013027e-02 -2.02393845e-01  1.54707506e-...</td>\n    </tr>\n    <tr>\n      <th>38965</th>\n      <td>38965</td>\n      <td>2</td>\n      <td>친구 관계가 너무 힘들어 베푸는 만큼 돌아오지 않는 것 같아</td>\n      <td>많이 서운하셨겠어요 친구들에게 서운함을 느꼈을 때 해결하는 방법이 있나요</td>\n      <td>[-7.00531602e-01 -2.13046625e-01 -2.02321410e-...</td>\n    </tr>\n  </tbody>\n</table>\n<p>38966 rows × 5 columns</p>\n</div>"
     },
     "execution_count": 3,
     "metadata": {},
     "output_type": "execute_result"
    }
   ],
   "source": [
    "df_embedding = pd.read_csv('../data/train_df_embedding.csv')\n",
    "df_embedding"
   ],
   "metadata": {
    "collapsed": false
   }
  },
  {
   "cell_type": "code",
   "execution_count": null,
   "outputs": [],
   "source": [],
   "metadata": {
    "collapsed": false
   }
  }
 ],
 "metadata": {
  "kernelspec": {
   "display_name": "Python 3",
   "language": "python",
   "name": "python3"
  },
  "language_info": {
   "codemirror_mode": {
    "name": "ipython",
    "version": 2
   },
   "file_extension": ".py",
   "mimetype": "text/x-python",
   "name": "python",
   "nbconvert_exporter": "python",
   "pygments_lexer": "ipython2",
   "version": "2.7.6"
  }
 },
 "nbformat": 4,
 "nbformat_minor": 0
}
